{
 "cells": [
  {
   "cell_type": "code",
   "execution_count": 20,
   "metadata": {},
   "outputs": [],
   "source": [
    "import pandas as pd\n",
    "import matplotlib.pyplot as plt\n",
    "import numpy as np"
   ]
  },
  {
   "cell_type": "code",
   "execution_count": 21,
   "metadata": {},
   "outputs": [],
   "source": [
    "my_data = pd.read_csv(\"~/Output/my_client/log_client.csv\")\n",
    "\n",
    "my_data = my_data[my_data.Time != 'Time']['Time'].astype(float) #dropping non numbers\n",
    "\n",
    "my_data_wo = pd.read_csv(\"~/Output/my_client/log_client.csv\")\n",
    "\n",
    "my_data_wo = my_data_wo[my_data_wo.Time != 'Time']['Time'].astype(float) #dropping non numbers"
   ]
  },
  {
   "cell_type": "code",
   "execution_count": 22,
   "metadata": {},
   "outputs": [],
   "source": [
    "grpc_data = pd.read_csv(\"~/Output/grpc_client/log_client.csv\")\n",
    "rabbit_data = pd.read_csv(\"~/Output/rabbit_client/log_client.csv\")\n",
    "\n",
    "grpc_data = grpc_data[grpc_data.Time != 'Time']['Time'].astype(float) #dropping non numbers\n",
    "rabbit_data = rabbit_data[rabbit_data.Time != 'Time']['Time'].astype(float) #dropping non numbers\n",
    "\n",
    "grpc_data_wo = pd.read_csv(\"~/Output/grpc_client/log_client.csv\")\n",
    "rabbit_data_wo = pd.read_csv(\"~/Output/rabbit_client/log_client.csv\")\n",
    "\n",
    "grpc_data_wo = grpc_data_wo[grpc_data_wo.Time != 'Time']['Time'].astype(float) #dropping non numbers\n",
    "rabbit_data_wo = rabbit_data_wo[rabbit_data_wo.Time != 'Time']['Time'].astype(float) #dropping non numbers\n",
    "\n"
   ]
  },
  {
   "cell_type": "code",
   "execution_count": 23,
   "metadata": {},
   "outputs": [],
   "source": [
    "def warmupCut(pd,tests):\n",
    "    for i in range (0,tests):\n",
    "        pd = pd.drop(pd.index[0+i*10000:3000+i*10000])\n",
    "        pd = pd.drop(pd.index[10001+i*10000:11001+i*10000])\n",
    "    return pd\n",
    "\n",
    "def outliersCut(pd,limit):\n",
    "    for i in range (0, limit):\n",
    "        pd = pd.drop(pd.idxmax())\n",
    "        pd = pd.drop(pd.idxmin())\n",
    "    return pd"
   ]
  },
  {
   "cell_type": "code",
   "execution_count": 24,
   "metadata": {
    "scrolled": true
   },
   "outputs": [],
   "source": [
    "grpc_data = warmupCut(grpc_data, 31)\n",
    "# grpc_data = outliersCut(grpc_data,10)\n",
    "\n",
    "rabbit_data = warmupCut(rabbit_data, 31)\n",
    "# rabbit_data = outliersCut(rabbit_data, 10)\n",
    "\n",
    "my_data = warmupCut(my_data,1)\n",
    "my_data = outliersCut(my_data, 100)\n",
    "# grpc_data_wo = outliersCut(grpc_data_wo, 50)\n",
    "# rabbit_data_wo = outliersCut(rabbit_data_wo,50)"
   ]
  },
  {
   "cell_type": "code",
   "execution_count": 25,
   "metadata": {},
   "outputs": [
    {
     "data": {
      "text/plain": [
       "count    300000.000000\n",
       "mean          0.312705\n",
       "std           0.057007\n",
       "min           0.090022\n",
       "25%           0.273353\n",
       "50%           0.306485\n",
       "75%           0.343830\n",
       "max           1.520769\n",
       "Name: Time, dtype: float64"
      ]
     },
     "execution_count": 25,
     "metadata": {},
     "output_type": "execute_result"
    }
   ],
   "source": [
    "grpc_data.describe()"
   ]
  },
  {
   "cell_type": "code",
   "execution_count": 26,
   "metadata": {},
   "outputs": [
    {
     "data": {
      "text/plain": [
       "count    300000.000000\n",
       "mean          0.385999\n",
       "std           0.075647\n",
       "min           0.221509\n",
       "25%           0.371605\n",
       "50%           0.407342\n",
       "75%           0.427069\n",
       "max           2.598577\n",
       "Name: Time, dtype: float64"
      ]
     },
     "execution_count": 26,
     "metadata": {},
     "output_type": "execute_result"
    }
   ],
   "source": [
    "rabbit_data.describe()"
   ]
  },
  {
   "cell_type": "code",
   "execution_count": 27,
   "metadata": {},
   "outputs": [
    {
     "data": {
      "text/plain": [
       "count    9801.000000\n",
       "mean        0.889955\n",
       "std         0.203832\n",
       "min         0.565641\n",
       "25%         0.743011\n",
       "50%         0.833600\n",
       "75%         0.987483\n",
       "max         1.510523\n",
       "Name: Time, dtype: float64"
      ]
     },
     "execution_count": 27,
     "metadata": {},
     "output_type": "execute_result"
    }
   ],
   "source": [
    "my_data.describe()"
   ]
  },
  {
   "cell_type": "code",
   "execution_count": 28,
   "metadata": {},
   "outputs": [],
   "source": [
    "means = []\n",
    "stds = []\n",
    "means.append(grpc_data.mean())\n",
    "means.append(my_data.mean())\n",
    "\n",
    "stds.append(grpc_data.std())\n",
    "stds.append(my_data.std())\n",
    "\n",
    "index = np.arange(len(means))"
   ]
  },
  {
   "cell_type": "code",
   "execution_count": 29,
   "metadata": {},
   "outputs": [
    {
     "data": {
      "image/png": "[encoded data removed]",
      "text/plain": [
       "<Figure size 432x288 with 1 Axes>"
      ]
     },
     "metadata": {
      "needs_background": "light"
     },
     "output_type": "display_data"
    }
   ],
   "source": [
    "objects = [\"gRPC\", \"My Midd\"]\n",
    "plt.bar(index, means, yerr=stds)\n",
    "plt.xticks(index, objects)\n",
    "\n",
    "for a,b in zip(index, means):\n",
    "    plt.text(a+0.02, b+0.02, str(b)[0:6], fontsize=14)\n",
    "plt.ylabel(\"Tempo(ms)\", fontsize=14)\n",
    "plt.title(\"Tempo médio de resposta - 10000 Invocações\", fontsize=14)\n",
    "plt.savefig('fig1.png')\n",
    "plt.show()"
   ]
  },
  {
   "cell_type": "code",
   "execution_count": 30,
   "metadata": {},
   "outputs": [],
   "source": [
    "udp_data = pd.read_csv(\"~/Output/udp_client1/log_client1.csv\")\n",
    "tcp_data = pd.read_csv(\"~/Output/tcp_client1/log_client1.csv\")\n",
    "\n",
    "udp_data = udp_data[udp_data.Time != 'Time']['Time'].astype(float) #dropping non numbers\n",
    "tcp_data = tcp_data[tcp_data.Time != 'Time']['Time'].astype(float) #dropping non numbers\n",
    "\n",
    "# udp_data = outliersCut(udp_data,10)\n",
    "# tcp_data = outliersCut(tcp_data,10)"
   ]
  },
  {
   "cell_type": "code",
   "execution_count": 31,
   "metadata": {},
   "outputs": [
    {
     "data": {
      "text/plain": [
       "count    300000.000000\n",
       "mean          0.059925\n",
       "std           0.024280\n",
       "min           0.036838\n",
       "25%           0.042607\n",
       "50%           0.048005\n",
       "75%           0.073606\n",
       "max           1.306998\n",
       "Name: Time, dtype: float64"
      ]
     },
     "execution_count": 31,
     "metadata": {},
     "output_type": "execute_result"
    }
   ],
   "source": [
    "udp_data.describe()"
   ]
  },
  {
   "cell_type": "code",
   "execution_count": 32,
   "metadata": {},
   "outputs": [
    {
     "data": {
      "text/plain": [
       "count    300000.000000\n",
       "mean          0.061509\n",
       "std           0.019584\n",
       "min           0.043657\n",
       "25%           0.050292\n",
       "50%           0.053186\n",
       "75%           0.061616\n",
       "max           0.450883\n",
       "Name: Time, dtype: float64"
      ]
     },
     "execution_count": 32,
     "metadata": {},
     "output_type": "execute_result"
    }
   ],
   "source": [
    "tcp_data.describe()"
   ]
  },
  {
   "cell_type": "code",
   "execution_count": 33,
   "metadata": {},
   "outputs": [],
   "source": [
    "objects = [\"UDP\", \"TCP\", \"gRPC\", \"RabbitMQ\", \"My Midd\"]\n",
    "means = []\n",
    "stds = []\n",
    "means.append(udp_data.mean())\n",
    "means.append(tcp_data.mean())\n",
    "means.append(grpc_data.mean())\n",
    "means.append(rabbit_data.mean())\n",
    "means.append(my_data.mean())\n",
    "\n",
    "stds.append(udp_data.std())\n",
    "stds.append(tcp_data.std())\n",
    "stds.append(grpc_data.std())\n",
    "stds.append(rabbit_data.std())\n",
    "stds.append(my_data.std())\n",
    "\n",
    "index = np.arange(len(means))\n"
   ]
  },
  {
   "cell_type": "code",
   "execution_count": 34,
   "metadata": {},
   "outputs": [
    {
     "data": {
      "image/png": "[encoded data removed]",
      "text/plain": [
       "<Figure size 432x288 with 1 Axes>"
      ]
     },
     "metadata": {
      "needs_background": "light"
     },
     "output_type": "display_data"
    }
   ],
   "source": [
    "plt.bar(index, means, yerr=stds)\n",
    "plt.xticks(index, objects)\n",
    "\n",
    "for a,b in zip(index, means):\n",
    "    plt.text(a+0.02, b+0.02, str(b)[0:6], fontsize=12, rotation=30)\n",
    "plt.ylabel(\"Tempo(ms)\", fontsize=14)\n",
    "plt.title(\"Tempo médio de resposta - 10000 Invocações\", fontsize=14)\n",
    "plt.savefig('fig2.png')\n",
    "plt.show()"
   ]
  },
  {
   "cell_type": "code",
   "execution_count": 35,
   "metadata": {},
   "outputs": [
    {
     "data": {
      "image/png": "[encoded data removed]",
      "text/plain": [
       "<Figure size 432x288 with 1 Axes>"
      ]
     },
     "metadata": {
      "needs_background": "light"
     },
     "output_type": "display_data"
    }
   ],
   "source": [
    "objects = [\"gRPC\", \"RabbitMQ\"]\n",
    "means = []\n",
    "stds = []\n",
    "\n",
    "means.append(grpc_data.mean())\n",
    "means.append(my_data.mean())\n",
    "\n",
    "stds.append(grpc_data.std())\n",
    "stds.append(my_data.std())\n",
    "\n",
    "means_wo = []\n",
    "stds_wo = []\n",
    "\n",
    "means_wo.append(grpc_data_wo.mean())\n",
    "means_wo.append(my_data_wo.mean())\n",
    "\n",
    "stds_wo.append(grpc_data_wo.std())\n",
    "stds_wo.append(my_data_wo.std())\n",
    "\n",
    "index = np.arange(len(means))\n",
    "width = 0.35\n",
    "\n",
    "fig, ax = plt.subplots()\n",
    "rects1 = ax.bar(index - width/2, means, width, label='Warmup', yerr=stds)\n",
    "rects2 = ax.bar(index + width/2, means_wo, width, label='Sem Warmup', yerr=stds_wo)\n",
    "\n",
    "plt.xticks(index, objects)\n",
    "\n",
    "plt.ylabel(\"Tempo(ms)\", fontsize=14)\n",
    "plt.title(\"Tempo médio de resposta - 10000 Invocações\", fontsize=14)\n",
    "plt.legend()\n",
    "plt.savefig('fig3.png')\n",
    "fig.tight_layout()\n",
    "plt.show()\n"
   ]
  },
  {
   "cell_type": "code",
   "execution_count": 36,
   "metadata": {},
   "outputs": [
    {
     "data": {
      "image/png": "[encoded data removed]",
      "text/plain": [
       "<Figure size 432x288 with 1 Axes>"
      ]
     },
     "metadata": {
      "needs_background": "light"
     },
     "output_type": "display_data"
    }
   ],
   "source": [
    "fig, ax = plt.subplots()\n",
    "rects1 = ax.bar(index - width/2, means, width, label='Warmup')\n",
    "rects2 = ax.bar(index + width/2, means_wo, width, label='Sem Warmup')\n",
    "\n",
    "plt.xticks(index, objects)\n",
    "\n",
    "plt.ylabel(\"Tempo(ms)\", fontsize=14)\n",
    "plt.title(\"Tempo médio de resposta - 10000 Invocações\", fontsize=14)\n",
    "# plt.legend()\n",
    "plt.savefig('fig4.png')\n",
    "fig.tight_layout()\n",
    "plt.show()"
   ]
  },
  {
   "cell_type": "code",
   "execution_count": null,
   "metadata": {},
   "outputs": [],
   "source": []
  }
 ],
 "metadata": {
  "kernelspec": {
   "display_name": "Python 3",
   "language": "python",
   "name": "python3"
  },
  "language_info": {
   "codemirror_mode": {
    "name": "ipython",
    "version": 3
   },
   "file_extension": ".py",
   "mimetype": "text/x-python",
   "name": "python",
   "nbconvert_exporter": "python",
   "pygments_lexer": "ipython3",
   "version": "3.7.4"
  }
 },
 "nbformat": 4,
 "nbformat_minor": 2
}
